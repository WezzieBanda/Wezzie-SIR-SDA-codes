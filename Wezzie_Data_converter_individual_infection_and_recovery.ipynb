{
  "nbformat": 4,
  "nbformat_minor": 0,
  "metadata": {
    "colab": {
      "name": "Wezzie Data converter",
      "provenance": [],
      "collapsed_sections": []
    },
    "kernelspec": {
      "name": "python3",
      "display_name": "Python 3"
    },
    "language_info": {
      "name": "python"
    }
  },
  "cells": [
    {
      "cell_type": "code",
      "source": [
        "import pandas as pd # import libraries\n",
        "import numpy as np\n",
        "import os\n",
        "from numpy.random import RandomState\n",
        "rand = RandomState()"
      ],
      "metadata": {
        "id": "RDOybBBIfKw2"
      },
      "execution_count": null,
      "outputs": []
    },
    {
      "cell_type": "code",
      "source": [
        "def data_converter(input, output): #function which takes in data \n",
        "  root_folder = os.getcwd()\n",
        "  df_full = pd.read_csv(os.path.join(root_folder, input), parse_dates=[\"time\"])\n",
        "\n",
        "  if (not 'daily_confirm' in df_full.columns) and (not 'cum_confirm' in df_full.columns):\n",
        "    raise ValueError(\n",
        "        \"Please provide at least one of the following: daily_confirm, cum_confirm\")\n",
        "  elif (not 'daily_confirm' in df_full.columns) and ('cum_confirm' in df_full.columns):\n",
        "      df_inf = df_full['cum_confirm'].diff().abs()\n",
        "      df_inf[0] = df_full['cum_confirm'].iloc[0]\n",
        "      df_full['daily_confirm'] = df_inf\n",
        "  elif ('daily_confirm' in df_full.columns) and (not 'cum_confirm' in df_full.columns):\n",
        "      df_full[\"cum_confirm\"] = df_full.daily_confirm.cumsum()\n",
        "\n",
        "  infection_data = list(\n",
        "      i + rand.uniform() for i, y in enumerate(df_full['daily_confirm'].values) for z in range(y.astype(int)))\n",
        "  df = pd.DataFrame(infection_data, index=range(\n",
        "      len(infection_data)), columns=['infection_times'])\n",
        "  \n",
        "  df.to_csv(str(output), index=False)"
      ],
      "metadata": {
        "id": "3bSf1NIocAfI"
      },
      "execution_count": null,
      "outputs": []
    },
    {
      "cell_type": "code",
      "source": [
        "#data_converter('dummy.csv', 'wezzie.csv')\n",
        "data_converter('First_Wave.SA1.csv', 'First_Wave_SA.csv') # converts population data to individual infection time\n",
        "# input First_Wave.SA1.csv data and output is First_Wave_SA.csv\n"
      ],
      "metadata": {
        "id": "U2kUFzIWeDCF"
      },
      "execution_count": null,
      "outputs": []
    },
    {
      "cell_type": "code",
      "source": [
        "#new_data = pd.read_csv('wezzie.csv')\n",
        "new_data1 = pd.read_csv('First_Wave_SA.csv') # new individual infection data in csv"
      ],
      "metadata": {
        "id": "fVil6u0Uev0W"
      },
      "execution_count": null,
      "outputs": []
    },
    {
      "cell_type": "code",
      "source": [
        "#infectious_time = np.array(new_data.infection_times)\n",
        "infectious_time1 = np.array(new_data1.infection_times)"
      ],
      "metadata": {
        "id": "EtvQMSFve4HH"
      },
      "execution_count": null,
      "outputs": []
    },
    {
      "cell_type": "code",
      "source": [
        "#recoveries_time = infectious_time*np.exp(-0.068)\n",
        "#recoveries_time1 = infectious_time1*np.exp(-0.068)\n",
        "recoveries_time1 =  infectious_time1*np.exp(-0.068) # add a column of individual recovery times"
      ],
      "metadata": {
        "id": "p7tcKY5nfPgb"
      },
      "execution_count": null,
      "outputs": []
    },
    {
      "cell_type": "code",
      "source": [
        "#data_frame = pd.DataFrame(infectious_time, recoveries_time)\n",
        "#data_frame.to_csv('new_table.csv')\n",
        "\n",
        "data_frame1 = pd.DataFrame(infectious_time1, recoveries_time1)\n",
        "data_frame1.to_csv('First_Wave_table1.csv') # csv to convert individual data consinsting of individual infection and recovery time\n",
        "# here output is First_Wave_table.csv"
      ],
      "metadata": {
        "id": "RtbG-DNlfoLd"
      },
      "execution_count": null,
      "outputs": []
    },
    {
      "cell_type": "code",
      "source": [
        "#pd.read_csv('new_table.csv')\n",
        "\n",
        "a = pd.read_csv('First_Wave_table1.csv') # show data"
      ],
      "metadata": {
        "id": "h5cpc-H6goXQ"
      },
      "execution_count": null,
      "outputs": []
    },
    {
      "cell_type": "code",
      "source": [
        "a"
      ],
      "metadata": {
        "colab": {
          "base_uri": "https://localhost:8080/",
          "height": 424
        },
        "id": "xwQO8JIg6r4t",
        "outputId": "4d2454ef-a485-4109-a689-2764af678230"
      },
      "execution_count": null,
      "outputs": [
        {
          "output_type": "execute_result",
          "data": {
            "text/plain": [
              "      Unnamed: 0           0\n",
              "0       0.270814    0.289870\n",
              "1       3.598859    3.852094\n",
              "2       3.658657    3.916099\n",
              "3       4.774139    5.110073\n",
              "4       4.757591    5.092360\n",
              "...          ...         ...\n",
              "9202  115.029756  123.123860\n",
              "9203  115.308062  123.421749\n",
              "9204  115.778635  123.925434\n",
              "9205  115.740183  123.884276\n",
              "9206  115.352359  123.469164\n",
              "\n",
              "[9207 rows x 2 columns]"
            ],
            "text/html": [
              "\n",
              "  <div id=\"df-1bab9501-dd42-4b8c-a9fa-4da14632a727\">\n",
              "    <div class=\"colab-df-container\">\n",
              "      <div>\n",
              "<style scoped>\n",
              "    .dataframe tbody tr th:only-of-type {\n",
              "        vertical-align: middle;\n",
              "    }\n",
              "\n",
              "    .dataframe tbody tr th {\n",
              "        vertical-align: top;\n",
              "    }\n",
              "\n",
              "    .dataframe thead th {\n",
              "        text-align: right;\n",
              "    }\n",
              "</style>\n",
              "<table border=\"1\" class=\"dataframe\">\n",
              "  <thead>\n",
              "    <tr style=\"text-align: right;\">\n",
              "      <th></th>\n",
              "      <th>Unnamed: 0</th>\n",
              "      <th>0</th>\n",
              "    </tr>\n",
              "  </thead>\n",
              "  <tbody>\n",
              "    <tr>\n",
              "      <th>0</th>\n",
              "      <td>0.270814</td>\n",
              "      <td>0.289870</td>\n",
              "    </tr>\n",
              "    <tr>\n",
              "      <th>1</th>\n",
              "      <td>3.598859</td>\n",
              "      <td>3.852094</td>\n",
              "    </tr>\n",
              "    <tr>\n",
              "      <th>2</th>\n",
              "      <td>3.658657</td>\n",
              "      <td>3.916099</td>\n",
              "    </tr>\n",
              "    <tr>\n",
              "      <th>3</th>\n",
              "      <td>4.774139</td>\n",
              "      <td>5.110073</td>\n",
              "    </tr>\n",
              "    <tr>\n",
              "      <th>4</th>\n",
              "      <td>4.757591</td>\n",
              "      <td>5.092360</td>\n",
              "    </tr>\n",
              "    <tr>\n",
              "      <th>...</th>\n",
              "      <td>...</td>\n",
              "      <td>...</td>\n",
              "    </tr>\n",
              "    <tr>\n",
              "      <th>9202</th>\n",
              "      <td>115.029756</td>\n",
              "      <td>123.123860</td>\n",
              "    </tr>\n",
              "    <tr>\n",
              "      <th>9203</th>\n",
              "      <td>115.308062</td>\n",
              "      <td>123.421749</td>\n",
              "    </tr>\n",
              "    <tr>\n",
              "      <th>9204</th>\n",
              "      <td>115.778635</td>\n",
              "      <td>123.925434</td>\n",
              "    </tr>\n",
              "    <tr>\n",
              "      <th>9205</th>\n",
              "      <td>115.740183</td>\n",
              "      <td>123.884276</td>\n",
              "    </tr>\n",
              "    <tr>\n",
              "      <th>9206</th>\n",
              "      <td>115.352359</td>\n",
              "      <td>123.469164</td>\n",
              "    </tr>\n",
              "  </tbody>\n",
              "</table>\n",
              "<p>9207 rows × 2 columns</p>\n",
              "</div>\n",
              "      <button class=\"colab-df-convert\" onclick=\"convertToInteractive('df-1bab9501-dd42-4b8c-a9fa-4da14632a727')\"\n",
              "              title=\"Convert this dataframe to an interactive table.\"\n",
              "              style=\"display:none;\">\n",
              "        \n",
              "  <svg xmlns=\"http://www.w3.org/2000/svg\" height=\"24px\"viewBox=\"0 0 24 24\"\n",
              "       width=\"24px\">\n",
              "    <path d=\"M0 0h24v24H0V0z\" fill=\"none\"/>\n",
              "    <path d=\"M18.56 5.44l.94 2.06.94-2.06 2.06-.94-2.06-.94-.94-2.06-.94 2.06-2.06.94zm-11 1L8.5 8.5l.94-2.06 2.06-.94-2.06-.94L8.5 2.5l-.94 2.06-2.06.94zm10 10l.94 2.06.94-2.06 2.06-.94-2.06-.94-.94-2.06-.94 2.06-2.06.94z\"/><path d=\"M17.41 7.96l-1.37-1.37c-.4-.4-.92-.59-1.43-.59-.52 0-1.04.2-1.43.59L10.3 9.45l-7.72 7.72c-.78.78-.78 2.05 0 2.83L4 21.41c.39.39.9.59 1.41.59.51 0 1.02-.2 1.41-.59l7.78-7.78 2.81-2.81c.8-.78.8-2.07 0-2.86zM5.41 20L4 18.59l7.72-7.72 1.47 1.35L5.41 20z\"/>\n",
              "  </svg>\n",
              "      </button>\n",
              "      \n",
              "  <style>\n",
              "    .colab-df-container {\n",
              "      display:flex;\n",
              "      flex-wrap:wrap;\n",
              "      gap: 12px;\n",
              "    }\n",
              "\n",
              "    .colab-df-convert {\n",
              "      background-color: #E8F0FE;\n",
              "      border: none;\n",
              "      border-radius: 50%;\n",
              "      cursor: pointer;\n",
              "      display: none;\n",
              "      fill: #1967D2;\n",
              "      height: 32px;\n",
              "      padding: 0 0 0 0;\n",
              "      width: 32px;\n",
              "    }\n",
              "\n",
              "    .colab-df-convert:hover {\n",
              "      background-color: #E2EBFA;\n",
              "      box-shadow: 0px 1px 2px rgba(60, 64, 67, 0.3), 0px 1px 3px 1px rgba(60, 64, 67, 0.15);\n",
              "      fill: #174EA6;\n",
              "    }\n",
              "\n",
              "    [theme=dark] .colab-df-convert {\n",
              "      background-color: #3B4455;\n",
              "      fill: #D2E3FC;\n",
              "    }\n",
              "\n",
              "    [theme=dark] .colab-df-convert:hover {\n",
              "      background-color: #434B5C;\n",
              "      box-shadow: 0px 1px 3px 1px rgba(0, 0, 0, 0.15);\n",
              "      filter: drop-shadow(0px 1px 2px rgba(0, 0, 0, 0.3));\n",
              "      fill: #FFFFFF;\n",
              "    }\n",
              "  </style>\n",
              "\n",
              "      <script>\n",
              "        const buttonEl =\n",
              "          document.querySelector('#df-1bab9501-dd42-4b8c-a9fa-4da14632a727 button.colab-df-convert');\n",
              "        buttonEl.style.display =\n",
              "          google.colab.kernel.accessAllowed ? 'block' : 'none';\n",
              "\n",
              "        async function convertToInteractive(key) {\n",
              "          const element = document.querySelector('#df-1bab9501-dd42-4b8c-a9fa-4da14632a727');\n",
              "          const dataTable =\n",
              "            await google.colab.kernel.invokeFunction('convertToInteractive',\n",
              "                                                     [key], {});\n",
              "          if (!dataTable) return;\n",
              "\n",
              "          const docLinkHtml = 'Like what you see? Visit the ' +\n",
              "            '<a target=\"_blank\" href=https://colab.research.google.com/notebooks/data_table.ipynb>data table notebook</a>'\n",
              "            + ' to learn more about interactive tables.';\n",
              "          element.innerHTML = '';\n",
              "          dataTable['output_type'] = 'display_data';\n",
              "          await google.colab.output.renderOutput(dataTable, element);\n",
              "          const docLink = document.createElement('div');\n",
              "          docLink.innerHTML = docLinkHtml;\n",
              "          element.appendChild(docLink);\n",
              "        }\n",
              "      </script>\n",
              "    </div>\n",
              "  </div>\n",
              "  "
            ]
          },
          "metadata": {},
          "execution_count": 9
        }
      ]
    }
  ]
}