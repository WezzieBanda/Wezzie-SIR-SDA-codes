{
 "cells": [
  {
   "cell_type": "code",
   "execution_count": 191,
   "id": "isolated-excerpt",
   "metadata": {},
   "outputs": [],
   "source": [
    "import math as m\n",
    "import numpy as np #import libraries\n",
    "import scipy.integrate as integrate\n",
    "import matplotlib.pyplot as plt"
   ]
  },
  {
   "cell_type": "code",
   "execution_count": 192,
   "id": "expanded-exclusion",
   "metadata": {},
   "outputs": [],
   "source": [
    "beta=0.285\n",
    "gamma=0.246 #define parameters\n",
    "rho=0.0035\n",
    "R_0=1.14\n",
    "t=125"
   ]
  },
  {
   "cell_type": "code",
   "execution_count": 193,
   "id": "transparent-group",
   "metadata": {},
   "outputs": [],
   "source": [
    "def st(u):\n",
    "    return np.exp(-R_0*rt(u)) #function of st the survival function"
   ]
  },
  {
   "cell_type": "code",
   "execution_count": 194,
   "id": "inner-customs",
   "metadata": {},
   "outputs": [],
   "source": [
    "#def j(u):\n",
    "  #  return np.exp(-gamma*(125-u))"
   ]
  },
  {
   "cell_type": "code",
   "execution_count": 195,
   "id": "spanish-reputation",
   "metadata": {},
   "outputs": [],
   "source": [
    "#integrate.quad(lambda u: j(u), 0, 125)[0]"
   ]
  },
  {
   "cell_type": "code",
   "execution_count": 196,
   "id": "modern-selling",
   "metadata": {},
   "outputs": [],
   "source": [
    "def rt(u): #function for rt\n",
    "    result_integral = integrate.quad(lambda u: it(u), 0, u)[0]\n",
    "    return gamma*result_integral"
   ]
  },
  {
   "cell_type": "code",
   "execution_count": 197,
   "id": "integral-yeast",
   "metadata": {},
   "outputs": [],
   "source": [
    "def it(u): #function for it\n",
    "    integral_result = integrate.quad(lambda u: 1*rho*np.exp(-gamma*(125-u)), 0,u)[0]\n",
    "    return rho*np.exp(-gamma*u)+beta*integral_result"
   ]
  },
  {
   "cell_type": "code",
   "execution_count": 198,
   "id": "removed-thomson",
   "metadata": {},
   "outputs": [],
   "source": [
    "time = [i for i in range(40)]\n",
    "val_it = [it(i) for i in time]\n",
    "val_rt = [rt(i) for i in time] #range of time\n",
    "val_st = [st(i) for i in time]"
   ]
  },
  {
   "cell_type": "code",
   "execution_count": 199,
   "id": "undefined-minute",
   "metadata": {},
   "outputs": [],
   "source": [
    "#plt.plot(time, val_it)"
   ]
  },
  {
   "cell_type": "code",
   "execution_count": 200,
   "id": "lesbian-proxy",
   "metadata": {},
   "outputs": [],
   "source": [
    "#plt.plot(time, val_rt)"
   ]
  },
  {
   "cell_type": "code",
   "execution_count": 201,
   "id": "authentic-cargo",
   "metadata": {},
   "outputs": [
    {
     "data": {
      "text/plain": [
       "Text(0, 0.5, 'Probability of remaining susceptible')"
      ]
     },
     "execution_count": 201,
     "metadata": {},
     "output_type": "execute_result"
    },
    {
     "data": {
      "image/png": "[encoded data removed]",
      "text/plain": [
       "<Figure size 432x288 with 1 Axes>"
      ]
     },
     "metadata": {
      "needs_background": "light"
     },
     "output_type": "display_data"
    }
   ],
   "source": [
    "#plot survival function\n",
    "\n",
    "\n",
    "plt.plot(time, val_st)\n",
    "plt.xlabel(\"Time in days\") #plot x axis\n",
    "plt.ylabel(\"Probability of remaining susceptible\")"
   ]
  },
  {
   "cell_type": "code",
   "execution_count": null,
   "id": "wired-mayor",
   "metadata": {},
   "outputs": [],
   "source": []
  },
  {
   "cell_type": "code",
   "execution_count": null,
   "id": "acting-handling",
   "metadata": {},
   "outputs": [],
   "source": []
  },
  {
   "cell_type": "code",
   "execution_count": null,
   "id": "collective-colony",
   "metadata": {},
   "outputs": [],
   "source": []
  }
 ],
 "metadata": {
  "kernelspec": {
   "display_name": "SageMath 9.2",
   "language": "sage",
   "name": "sagemath"
  },
  "language_info": {
   "codemirror_mode": {
    "name": "ipython",
    "version": 3
   },
   "file_extension": ".py",
   "mimetype": "text/x-python",
   "name": "python",
   "nbconvert_exporter": "python",
   "pygments_lexer": "ipython3",
   "version": "3.9.2"
  }
 },
 "nbformat": 4,
 "nbformat_minor": 5
}
